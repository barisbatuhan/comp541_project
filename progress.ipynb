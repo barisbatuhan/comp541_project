{
 "cells": [
  {
   "cell_type": "markdown",
   "metadata": {},
   "source": [
    "## Calling the Data Reader Class"
   ]
  },
  {
   "cell_type": "code",
   "execution_count": null,
   "metadata": {},
   "outputs": [],
   "source": [
    "include(\"BBTNet/datasets/WIDERFACE.jl\")\n",
    "include(\"configs.jl\")\n",
    "\n",
    "import Random\n",
    "Random.seed!(42)\n",
    "d = WIDER_Data(wf_path * \"train/\", wf_labels_path * \"train/\", train=true, batch_size=batch_size, dtype=atype)\n",
    "print(\"WIDERFACE data is read!\")"
   ]
  },
  {
   "cell_type": "markdown",
   "metadata": {},
   "source": [
    "## Drawing a Ground Truth Image"
   ]
  },
  {
   "cell_type": "code",
   "execution_count": null,
   "metadata": {},
   "outputs": [],
   "source": [
    "include(\"./BBTNet/utils/ImageReader.jl\")\n",
    "\n",
    "train_reader = Image_Reader(true) # true for augmentation, false for only square resize\n",
    "\n",
    "file_name = \"22--Picnic/22_Picnic_Picnic_22_231.jpg\"\n",
    "img, bboxes = read_img(train_reader, wf_path * \"train/images/\" * file_name, d.bboxes[file_name], 640)\n",
    "img += avg_img\n",
    "print(\"Image file is read: \", file_name, '\\n')"
   ]
  },
  {
   "cell_type": "code",
   "execution_count": null,
   "metadata": {},
   "outputs": [],
   "source": [
    "include(\"./BBTNet/utils/draw.jl\")\n",
    "draw_boxes_and_landmarks(img, bboxes)"
   ]
  },
  {
   "cell_type": "markdown",
   "metadata": {},
   "source": [
    "## Drawing Image From Manual Data"
   ]
  },
  {
   "cell_type": "code",
   "execution_count": null,
   "metadata": {},
   "outputs": [],
   "source": [
    "using Images\n",
    "\n",
    "include(\"./BBTNet/utils/draw.jl\")\n",
    "\n",
    "d = reshape([449 330 571 479 488.906 373.643 542.089 376.442 515.031 412.83 485.174 425.893 538.357 431.491], (14, 1))\n",
    "path = wf_path * \"train/images/0--Parade/0_Parade_marchingband_1_849.jpg\"\n",
    "\n",
    "img = channelview(load(path))\n",
    "draw_boxes_and_landmarks(img, d)"
   ]
  },
  {
   "cell_type": "markdown",
   "metadata": {},
   "source": [
    "## Training the Model"
   ]
  },
  {
   "cell_type": "code",
   "execution_count": null,
   "metadata": {},
   "outputs": [],
   "source": [
    "include(\"BBTNet/models/retinaface.jl\")\n",
    "\n",
    "model = RetinaFace(dtype=atype)\n",
    "print(\"Model is loaded!\")"
   ]
  },
  {
   "cell_type": "code",
   "execution_count": null,
   "metadata": {},
   "outputs": [],
   "source": [
    "train_model(model, d, save_dir=save_dir)"
   ]
  },
  {
   "cell_type": "markdown",
   "metadata": {},
   "source": [
    "## Testing the Model"
   ]
  },
  {
   "cell_type": "markdown",
   "metadata": {},
   "source": [
    "#### Testing a Batch"
   ]
  },
  {
   "cell_type": "code",
   "execution_count": null,
   "metadata": {
    "scrolled": false
   },
   "outputs": [],
   "source": [
    "include(\"BBTNet/datasets/WIDERFACE.jl\")\n",
    "include(\"BBTNet/models/retinaface.jl\")\n",
    "include(\"./BBTNet/utils/draw.jl\")\n",
    "include(\"configs.jl\")\n",
    "\n",
    "Random.seed!(42)\n",
    "\n",
    "val_data = WIDER_Data(wf_path * \"val/\", wf_labels_path * \"val/\", train=false, batch_size=batch_size, dtype=atype)\n",
    "(imgs, boxes), state = iterate(val_data)\n",
    "\n",
    "# model = RetinaFace(dtype=atype)\n",
    "model = load_model(save_dir * \"model_1.jld2\")\n",
    "c, b, l = model(imgs, nothing, mode, false, 0)\n",
    "\n",
    "for b in 1:batch_size\n",
    "    print(\"For Batch Image: \", b, \" found \", size(c[b],1), \" proposals!\\n\")\n",
    "end"
   ]
  },
  {
   "cell_type": "code",
   "execution_count": null,
   "metadata": {},
   "outputs": [],
   "source": [
    "# image conversion to actual shape and cpu type for the first image in the prediction\n",
    "img_no = 10\n",
    "img_cpu = Array(permutedims(imgs[:,:,:,img_no], (3,2,1))) ./ 255 + avg_img\n",
    "combined_pts = permutedims(Array(cat(b[img_no], l[img_no], dims=2)), (2, 1))\n",
    "\n",
    "draw_boxes_and_landmarks(img_cpu, combined_pts)"
   ]
  },
  {
   "cell_type": "markdown",
   "metadata": {},
   "source": [
    "#### Testing an Individual Image"
   ]
  },
  {
   "cell_type": "code",
   "execution_count": 8,
   "metadata": {},
   "outputs": [
    {
     "name": "stdout",
     "output_type": "stream",
     "text": [
      "[99731, 99583][INFO] Returning results above confidence level: 0.999.\n"
     ]
    }
   ],
   "source": [
    "include(\"BBTNet/datasets/WIDERFACE.jl\")\n",
    "include(\"BBTNet/models/retinaface.jl\")\n",
    "include(\"./BBTNet/utils/draw.jl\")\n",
    "include(\"configs.jl\")\n",
    "\n",
    "sample_paths = [\n",
    "    \"18--Concerts/18_Concerts_Concerts_18_537.jpg\", \n",
    "    \"2--Demonstration/2_Demonstration_Demonstrators_2_688.jpg\", \n",
    "    \"0--Parade/0_Parade_Parade_0_652.jpg\", \n",
    "    \"55--Sports_Coach_Trainer/55_Sports_Coach_Trainer_sportcoaching_55_327.jpg\"\n",
    "]\n",
    "\n",
    "dataset_path = wf_path * \"train/\" \n",
    "labels_path = wf_labels_path * \"train/\"\n",
    "img_path = sample_paths[4]\n",
    "# img_path = \"0--Parade/0_Parade_marchingband_1_849.jpg\"\n",
    "\n",
    "d = WIDER_Data(dataset_path, labels_path, train=false, batch_size=1, dtype=atype)\n",
    "img, boxes = read_img(d.reader, dataset_path * \"images/\" * img_path, d.bboxes[img_path], img_size)\n",
    "imgs = convert(atype, permutedims(reshape(img, (3, img_size, img_size, 1)), (3,2,1,4))) .* 255\n",
    "\n",
    "boxes = permutedims(boxes, (2, 1))\n",
    "gt, pos_indices, neg_indices = encode_gt_and_get_indices(boxes, 0.5, 0.4)\n",
    "\n",
    "print(pos_indices)\n",
    "\n",
    "conf_level = 0.999\n",
    "\n",
    "model = load_model(save_dir * \"model_4.jld2\")\n",
    "c, b, l = model(imgs, nothing, mode, false, 0)\n",
    "\n",
    "b[1] = b[1][[99731, 99583], :]\n",
    "l[1] = l[1][[99731, 99583], :]\n",
    "combined_pts = permutedims(Array(cat(b[1], l[1], dims=2)), (2, 1))\n",
    "\n",
    "img += avg_img\n",
    "draw_boxes_and_landmarks(img, combined_pts)"
   ]
  },
  {
   "cell_type": "markdown",
   "metadata": {},
   "source": [
    "## Saving & Loading the Model"
   ]
  },
  {
   "cell_type": "code",
   "execution_count": null,
   "metadata": {},
   "outputs": [],
   "source": [
    "save_model(model, save_dir * \"dummy_path.jld2\")"
   ]
  },
  {
   "cell_type": "code",
   "execution_count": null,
   "metadata": {},
   "outputs": [],
   "source": [
    "model = load_model(save_dir * \"model_epoch1.jld2\")\n",
    "print(\"Model is loaded from a file!\\n\")"
   ]
  },
  {
   "cell_type": "markdown",
   "metadata": {},
   "source": [
    "## Issues on Loading ResNet50 Weights"
   ]
  },
  {
   "cell_type": "code",
   "execution_count": null,
   "metadata": {},
   "outputs": [],
   "source": [
    "include(\"./BBTNet/backbones/resnet.jl\")\n",
    "include(\"./BBTNet/utils/ImageReader.jl\")\n",
    "include(\"configs.jl\")\n",
    "\n",
    "img_path = \"./data/cat_img.jpg\"\n",
    "img = convert(atype, read_img(Image_Reader(false), img_path, nothing, img_size))\n",
    "img = permutedims(reshape(img, (1, 3, img_size, img_size)), (4, 3, 2, 1)) .* 255\n",
    "\n",
    "rn = load_mat_weights(ResNet50(dtype=atype), \"./weights/imagenet-resnet-50-dag.mat\")\n",
    "evaluate_model(rn, img)"
   ]
  }
 ],
 "metadata": {
  "kernelspec": {
   "display_name": "Julia 1.5.3",
   "language": "julia",
   "name": "julia-1.5"
  },
  "language_info": {
   "file_extension": ".jl",
   "mimetype": "application/julia",
   "name": "julia",
   "version": "1.5.3"
  }
 },
 "nbformat": 4,
 "nbformat_minor": 4
}
