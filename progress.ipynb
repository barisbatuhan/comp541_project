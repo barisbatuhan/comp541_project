{
 "cells": [
  {
   "cell_type": "code",
   "execution_count": null,
   "metadata": {},
   "outputs": [],
   "source": [
    "include(\"./BBTNet/datasets/WIDERFACE.jl\")\n",
    "\n",
    "root_dir = \"../Datasets/WIDERFACE/WIDER_\"\n",
    "train_data = WIDER_Data(root_dir * \"train/\")\n",
    "print(\"WIDER Data is read. Total images: \", train_data.num_files, \" & Total Faces: \", train_data.num_faces, '\\n')"
   ]
  },
  {
   "cell_type": "code",
   "execution_count": null,
   "metadata": {},
   "outputs": [],
   "source": [
    "include(\"./BBTNet/datasets/WIDERFACE.jl\")\n",
    "\n",
    "(imgs, boxes), state = iterate(train_data)\n",
    "print(\"Got the first batch: \", size(imgs))"
   ]
  },
  {
   "cell_type": "code",
   "execution_count": null,
   "metadata": {},
   "outputs": [],
   "source": [
    "include(\"./BBTNet/utils/ImageReader.jl\")\n",
    "\n",
    "train_reader = Image_Reader(true)\n",
    "test_reader = Image_Reader(false)\n",
    "\n",
    "filename = \"0--Parade/0_Parade_marchingband_1_799.jpg\"\n",
    "img, bboxes = read_img(train_reader, root_dir * \"train/images/\" * filename, train_data.bboxes[filename], 640)\n",
    "print(\"Image file is read: \", filename, '\\n')"
   ]
  },
  {
   "cell_type": "code",
   "execution_count": null,
   "metadata": {},
   "outputs": [],
   "source": [
    "include(\"./BBTNet/utils/draw.jl\")\n",
    "\n",
    "draw_boxes_and_landmarks(img, bboxes)"
   ]
  },
  {
   "cell_type": "markdown",
   "metadata": {},
   "source": [
    "## Running The Model"
   ]
  },
  {
   "cell_type": "code",
   "execution_count": null,
   "metadata": {},
   "outputs": [],
   "source": [
    "include(\"./BBTNet/models/retinaface.jl\")\n",
    "\n",
    "# atype = KnetArray{Float32}\n",
    "atype = Array{Float32}\n",
    "\n",
    "x = convert(atype, rand(640, 640, 3, 2))\n",
    "model = RetinaFace(dtype=atype)\n",
    "\n",
    "c, b, l = model(x, train=false)\n",
    "print(size(c), \" & \", size(b), \" & \", size(l), \" \\n\")"
   ]
  },
  {
   "cell_type": "code",
   "execution_count": null,
   "metadata": {},
   "outputs": [],
   "source": [
    "include(\"BBTNet/models/retinaface.jl\")\n",
    "include(\"BBTNet/datasets/WIDERFACE.jl\")\n",
    "include(\"./BBTNet/utils/draw.jl\")\n",
    "include(\"./BBTNet/utils/box_processes.jl\")\n",
    "\n",
    "atype = KnetArray{Float32}\n",
    "# atype = Array{Float32}\n",
    "images_folder_dir = \"../Datasets/WIDERFACE/WIDER_\"\n",
    "\n",
    "val_data = WIDER_Data(images_folder_dir * \"val/\", train=false, batch_size=2)\n",
    "(imgs, boxes), state = iterate(val_data)\n",
    "print(\"Got the first batch: \", size(imgs), \"\\n\")\n",
    "\n",
    "model = RetinaFace(dtype=atype)\n",
    "imgs_permuted = convert(atype, permutedims(imgs, (3,2,1,4)))\n",
    "c, b, l = model(imgs_permuted, train=false)\n",
    "\n",
    "combined = permutedims(cat(b[1], l[1], dims=2), (2, 1))\n",
    "\n",
    "draw_boxes_and_landmarks(imgs[:,:,:,1], combined)"
   ]
  },
  {
   "cell_type": "code",
   "execution_count": null,
   "metadata": {},
   "outputs": [],
   "source": [
    "using JLD2\n",
    "using FileIO\n",
    "\n",
    "@save \"retinaface_rand.jld2\" model\n",
    "model_dict = load(\"retinaface_rand.jld2\")\n",
    "model2 = model_dict[\"model\"]\n",
    "print(\"Model is loaded from a file!\\n\")"
   ]
  },
  {
   "cell_type": "code",
   "execution_count": null,
   "metadata": {},
   "outputs": [],
   "source": []
  },
  {
   "cell_type": "code",
   "execution_count": 1,
   "metadata": {},
   "outputs": [],
   "source": [
    "import DataStructures"
   ]
  },
  {
   "cell_type": "code",
   "execution_count": null,
   "metadata": {},
   "outputs": [],
   "source": [
    "import Knet"
   ]
  },
  {
   "cell_type": "code",
   "execution_count": 7,
   "metadata": {},
   "outputs": [
    {
     "data": {
      "text/plain": [
       "Array{Float64,1}"
      ]
     },
     "execution_count": 7,
     "metadata": {},
     "output_type": "execute_result"
    }
   ],
   "source": [
    "temp = rand(10)\n",
    "i = sortperm(temp)\n",
    "typeof(temp)"
   ]
  },
  {
   "cell_type": "code",
   "execution_count": 6,
   "metadata": {},
   "outputs": [
    {
     "ename": "LoadError",
     "evalue": "UndefVarError: BinaryHeap not defined",
     "output_type": "error",
     "traceback": [
      "UndefVarError: BinaryHeap not defined",
      "",
      "Stacktrace:",
      " [1] top-level scope at In[6]:1",
      " [2] include_string(::Function, ::Module, ::String, ::String) at .\\loading.jl:1091",
      " [3] execute_code(::String, ::String) at C:\\Users\\BBT\\.julia\\packages\\IJulia\\rWZ9e\\src\\execute_request.jl:27",
      " [4] execute_request(::ZMQ.Socket, ::IJulia.Msg) at C:\\Users\\BBT\\.julia\\packages\\IJulia\\rWZ9e\\src\\execute_request.jl:86",
      " [5] #invokelatest#1 at .\\essentials.jl:710 [inlined]",
      " [6] invokelatest at .\\essentials.jl:709 [inlined]",
      " [7] eventloop(::ZMQ.Socket) at C:\\Users\\BBT\\.julia\\packages\\IJulia\\rWZ9e\\src\\eventloop.jl:8",
      " [8] (::IJulia.var\"#15#18\")() at .\\task.jl:356"
     ]
    }
   ],
   "source": [
    "heap = BinaryHeap(Base.By(last), temp)\n",
    "maxs = popmax!(heap, 3)\n",
    "typeof(maxs)"
   ]
  },
  {
   "cell_type": "code",
   "execution_count": null,
   "metadata": {},
   "outputs": [],
   "source": [
    "max_prior_vals, max_prior_idx = findmax(temp; dims=2)\n",
    "print(max_prior_vals)"
   ]
  },
  {
   "cell_type": "code",
   "execution_count": null,
   "metadata": {},
   "outputs": [],
   "source": [
    "getindex.(max_prior_idx[findall(max_prior_vals .>= 0.85)], [1 2])[:, 2]"
   ]
  },
  {
   "cell_type": "code",
   "execution_count": null,
   "metadata": {},
   "outputs": [],
   "source": [
    "pos_indices = findall(max_prior_vals .>= 0.7)\n",
    "size(pos_indices)"
   ]
  },
  {
   "cell_type": "code",
   "execution_count": null,
   "metadata": {},
   "outputs": [],
   "source": [
    "getindex.(pos_indices, [1 2])[:,1]"
   ]
  },
  {
   "cell_type": "code",
   "execution_count": null,
   "metadata": {},
   "outputs": [],
   "source": [
    "vals, idx = sort(max_prior_vals, dims=2)"
   ]
  },
  {
   "cell_type": "code",
   "execution_count": null,
   "metadata": {},
   "outputs": [],
   "source": [
    "vals"
   ]
  },
  {
   "cell_type": "code",
   "execution_count": null,
   "metadata": {},
   "outputs": [],
   "source": [
    "num_anchors     = 3\n",
    "anchor_info     = [ \n",
    "    Dict([(\"stride\", 4), (\"anchors\", [16, 20.16, 25.40]), (\"end_idx\", 76800)]),\n",
    "    Dict([(\"stride\", 8), (\"anchors\", [32, 40.32, 50.80]), (\"end_idx\", 96000)]),\n",
    "    Dict([(\"stride\", 16), (\"anchors\", [64, 80.63, 101.59]), (\"end_idx\", 100800)]),\n",
    "    Dict([(\"stride\", 32), (\"anchors\", [128, 161.26, 203.19]), (\"end_idx\", 102000)]),\n",
    "    Dict([(\"stride\", 64), (\"anchors\", [256, 322.54, 406.37]), (\"end_idx\", 102300)])\n",
    "]\n",
    "\n",
    "crop_ratios     = [0.3, 0.45, 0.6, 0.8, 1.0]\n",
    "img_size        = 640\n",
    "\n",
    "function _get_priorboxes(;dtype=Array{Float64})\n",
    "    feature_maps = [Int(ceil(img_size / scale[\"stride\"])) for scale in anchor_info]\n",
    "    num_proposals = num_anchors * sum([i*i for i in feature_maps])\n",
    "    anchors = convert(dtype, zeros(num_proposals, 4))\n",
    "\n",
    "    counter = 1\n",
    "    for (idx, f) in enumerate(feature_maps)\n",
    "        scaler = anchor_info[idx][\"stride\"] / img_size\n",
    "        for s in anchor_info[idx][\"anchors\"]\n",
    "            bbox_len = s / img_size\n",
    "            for h in 1:f\n",
    "                for w in 1:f\n",
    "                    cx = (w - 0.5) * scaler\n",
    "                    cy = (h - 0.5) * scaler\n",
    "                    anchors[counter,:] = convert(dtype, [cx cy bbox_len bbox_len])\n",
    "                    counter += 1\n",
    "                end\n",
    "            end\n",
    "        end\n",
    "    end\n",
    "    return anchors\n",
    "end\n",
    "\n",
    "anchors = _get_priorboxes()"
   ]
  },
  {
   "cell_type": "code",
   "execution_count": null,
   "metadata": {},
   "outputs": [],
   "source": [
    "temp2  =[-2 5; -1 1]\n",
    "abs.(temp2)"
   ]
  },
  {
   "cell_type": "code",
   "execution_count": null,
   "metadata": {},
   "outputs": [],
   "source": [
    "sum(temp2)"
   ]
  },
  {
   "cell_type": "code",
   "execution_count": null,
   "metadata": {},
   "outputs": [],
   "source": []
  }
 ],
 "metadata": {
  "kernelspec": {
   "display_name": "Julia 1.5.2",
   "language": "julia",
   "name": "julia-1.5"
  },
  "language_info": {
   "file_extension": ".jl",
   "mimetype": "application/julia",
   "name": "julia",
   "version": "1.5.2"
  }
 },
 "nbformat": 4,
 "nbformat_minor": 4
}
